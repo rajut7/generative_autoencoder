{
 "cells": [
  {
   "cell_type": "code",
   "execution_count": 24,
   "id": "37ae6101",
   "metadata": {},
   "outputs": [],
   "source": [
    "import torch\n",
    "import torchvision\n",
    "import torchvision.transforms as transforms\n",
    "import torch.nn as nn\n",
    "import torch.nn.functional as F\n",
    "from torch import optim"
   ]
  },
  {
   "cell_type": "code",
   "execution_count": 242,
   "id": "798586bc",
   "metadata": {},
   "outputs": [],
   "source": [
    "device = \"cuda\" if torch.cuda.is_available() else \"cpu\""
   ]
  },
  {
   "cell_type": "code",
   "execution_count": 243,
   "id": "743cbfc6",
   "metadata": {},
   "outputs": [],
   "source": [
    "class autoencoder(nn.Module):\n",
    "    def __init__(self,input_dim=28, out_dim=2):\n",
    "        super(autoencoder,self).__init__()\n",
    "        \n",
    "        self.encoder= nn.Sequential(\n",
    "                nn.Conv2d(1,32,3),\n",
    "                nn.LeakyReLU(),\n",
    "                nn.BatchNorm2d(32),\n",
    "                nn.Conv2d(32,64,3),\n",
    "                nn.LeakyReLU(),\n",
    "                \n",
    "                nn.BatchNorm2d(64),\n",
    "                nn.Conv2d(64,64,3),\n",
    "                nn.LeakyReLU(),\n",
    "                nn.BatchNorm2d(64),\n",
    "                nn.Conv2d(64,64,3),\n",
    "                nn.LeakyReLU(),\n",
    "                nn.BatchNorm2d(64))\n",
    "        self.fc1= nn.Linear(64*20*20,2)\n",
    "        \n",
    "        self.decoder = nn.Sequential(\n",
    "                    nn.Linear(2,64*20*20),\n",
    "                    nn.Unflatten(1,(64,20,20)),\n",
    "                    nn.ConvTranspose2d(64,64,3),\n",
    "                    nn.LeakyReLU(),\n",
    "                    nn.BatchNorm2d(64),\n",
    "                    nn.ConvTranspose2d(64,64,3),\n",
    "                    nn.LeakyReLU(),\n",
    "                    nn.BatchNorm2d(64),\n",
    "                    nn.ConvTranspose2d(64,32,3),\n",
    "                    nn.LeakyReLU(),\n",
    "                    nn.BatchNorm2d(32),\n",
    "                    nn.ConvTranspose2d(32,1,3),\n",
    "                    nn.Sigmoid()\n",
    "                    )\n",
    "        \n",
    "        \n",
    "    def forward(self,x):\n",
    "        x= self.encoder(x)\n",
    "        #print(x.shape)\n",
    "        encoded = self.fc1(torch.flatten(x,1))\n",
    "        #print(encoded.shape)\n",
    "        decoded= self.decoder(encoded)\n",
    "        return decoded\n",
    "        \n",
    "        \n",
    "        \n",
    "        "
   ]
  },
  {
   "cell_type": "code",
   "execution_count": 257,
   "id": "d60f8cdc",
   "metadata": {},
   "outputs": [],
   "source": [
    "transform = transforms.Compose(\n",
    "    [transforms.ToTensor(),\n",
    "     transforms.Normalize((0.5), (0.5))])\n",
    "\n",
    "batch_size = 32\n",
    "\n",
    "trainset = torchvision.datasets.MNIST(root='./data', train=True,\n",
    "                                        download=True, transform=transform)\n",
    "trainloader = torch.utils.data.DataLoader(trainset, batch_size=batch_size,\n",
    "                                          shuffle=True, num_workers=1)\n",
    "testset = torchvision.datasets.MNIST(root='./data', train=False,\n",
    "                                        download=True, transform=transform)\n",
    "testloader = torch.utils.data.DataLoader(testset, batch_size=batch_size,\n",
    "                                          shuffle=True, num_workers=1)"
   ]
  },
  {
   "cell_type": "code",
   "execution_count": 245,
   "id": "4c6a21ce",
   "metadata": {},
   "outputs": [
    {
     "data": {
      "text/plain": [
       "<torch.utils.data.dataloader.DataLoader at 0x7f4c75c9d0d0>"
      ]
     },
     "execution_count": 245,
     "metadata": {},
     "output_type": "execute_result"
    }
   ],
   "source": [
    "trainloader"
   ]
  },
  {
   "cell_type": "code",
   "execution_count": 294,
   "id": "1c204a8b",
   "metadata": {},
   "outputs": [
    {
     "data": {
      "image/png": "[encoded data removed]",
      "text/plain": [
       "<Figure size 432x288 with 1 Axes>"
      ]
     },
     "metadata": {
      "needs_background": "light"
     },
     "output_type": "display_data"
    }
   ],
   "source": [
    "import matplotlib.pyplot as plt\n",
    "plt.imshow(trainset.data[0], cmap='gray')\n",
    "plt.title('%i' % trainset.targets[0])\n",
    "plt.show()"
   ]
  },
  {
   "cell_type": "code",
   "execution_count": 247,
   "id": "993e305a",
   "metadata": {},
   "outputs": [],
   "source": [
    "model= autoencoder(28,2).to(device)"
   ]
  },
  {
   "cell_type": "code",
   "execution_count": 248,
   "id": "e8e8c7d3",
   "metadata": {},
   "outputs": [],
   "source": [
    "optimizer= optim.Adam(model.parameters(),lr=1e-5)"
   ]
  },
  {
   "cell_type": "code",
   "execution_count": 249,
   "id": "98d42743",
   "metadata": {},
   "outputs": [],
   "source": [
    "criterion= nn.MSELoss()"
   ]
  },
  {
   "cell_type": "code",
   "execution_count": 251,
   "id": "85356fc2",
   "metadata": {},
   "outputs": [
    {
     "name": "stdout",
     "output_type": "stream",
     "text": [
      "loss: 1.177522  [    0/60000] epoch: 0\n",
      "loss: 1.163184  [32000/60000] epoch: 0\n",
      "loss: 1.170238  [    0/60000] epoch: 1\n",
      "loss: 1.153191  [32000/60000] epoch: 1\n",
      "loss: 1.158342  [    0/60000] epoch: 2\n",
      "loss: 1.151404  [32000/60000] epoch: 2\n",
      "loss: 1.128518  [    0/60000] epoch: 3\n",
      "loss: 1.156202  [32000/60000] epoch: 3\n",
      "loss: 1.118426  [    0/60000] epoch: 4\n",
      "loss: 1.141308  [32000/60000] epoch: 4\n",
      "loss: 1.152459  [    0/60000] epoch: 5\n",
      "loss: 1.153661  [32000/60000] epoch: 5\n",
      "loss: 1.127699  [    0/60000] epoch: 6\n",
      "loss: 1.151295  [32000/60000] epoch: 6\n",
      "loss: 1.132468  [    0/60000] epoch: 7\n",
      "loss: 1.140651  [32000/60000] epoch: 7\n",
      "loss: 1.153661  [    0/60000] epoch: 8\n",
      "loss: 1.181884  [32000/60000] epoch: 8\n",
      "loss: 1.141767  [    0/60000] epoch: 9\n",
      "loss: 1.155308  [32000/60000] epoch: 9\n",
      "loss: 1.134217  [    0/60000] epoch: 10\n",
      "loss: 1.134814  [32000/60000] epoch: 10\n",
      "loss: 1.137814  [    0/60000] epoch: 11\n",
      "loss: 1.095052  [32000/60000] epoch: 11\n",
      "loss: 0.955652  [    0/60000] epoch: 12\n",
      "loss: 0.918203  [32000/60000] epoch: 12\n",
      "loss: 0.932147  [    0/60000] epoch: 13\n",
      "loss: 0.916086  [32000/60000] epoch: 13\n",
      "loss: 0.912779  [    0/60000] epoch: 14\n",
      "loss: 0.919750  [32000/60000] epoch: 14\n",
      "loss: 0.918207  [    0/60000] epoch: 15\n",
      "loss: 0.917304  [32000/60000] epoch: 15\n",
      "loss: 0.911706  [    0/60000] epoch: 16\n",
      "loss: 0.914657  [32000/60000] epoch: 16\n",
      "loss: 0.912439  [    0/60000] epoch: 17\n",
      "loss: 0.906543  [32000/60000] epoch: 17\n",
      "loss: 0.914239  [    0/60000] epoch: 18\n",
      "loss: 0.916034  [32000/60000] epoch: 18\n",
      "loss: 0.912391  [    0/60000] epoch: 19\n",
      "loss: 0.915512  [32000/60000] epoch: 19\n",
      "loss: 0.921873  [    0/60000] epoch: 20\n",
      "loss: 0.915147  [32000/60000] epoch: 20\n",
      "loss: 0.916847  [    0/60000] epoch: 21\n",
      "loss: 0.905231  [32000/60000] epoch: 21\n",
      "loss: 0.910425  [    0/60000] epoch: 22\n",
      "loss: 0.920209  [32000/60000] epoch: 22\n",
      "loss: 0.917633  [    0/60000] epoch: 23\n",
      "loss: 0.916835  [32000/60000] epoch: 23\n",
      "loss: 0.920647  [    0/60000] epoch: 24\n",
      "loss: 0.909736  [32000/60000] epoch: 24\n",
      "loss: 0.917898  [    0/60000] epoch: 25\n",
      "loss: 0.914013  [32000/60000] epoch: 25\n",
      "loss: 0.910648  [    0/60000] epoch: 26\n",
      "loss: 0.913981  [32000/60000] epoch: 26\n",
      "loss: 0.914379  [    0/60000] epoch: 27\n",
      "loss: 0.907399  [32000/60000] epoch: 27\n",
      "loss: 0.903953  [    0/60000] epoch: 28\n",
      "loss: 0.911520  [32000/60000] epoch: 28\n",
      "loss: 0.914750  [    0/60000] epoch: 29\n",
      "loss: 0.908448  [32000/60000] epoch: 29\n"
     ]
    },
    {
     "ename": "KeyboardInterrupt",
     "evalue": "",
     "output_type": "error",
     "traceback": [
      "\u001b[0;31m---------------------------------------------------------------------------\u001b[0m",
      "\u001b[0;31mKeyboardInterrupt\u001b[0m                         Traceback (most recent call last)",
      "Input \u001b[0;32mIn [251]\u001b[0m, in \u001b[0;36m<cell line: 1>\u001b[0;34m()\u001b[0m\n\u001b[1;32m      2\u001b[0m size \u001b[38;5;241m=\u001b[39m \u001b[38;5;28mlen\u001b[39m(trainloader\u001b[38;5;241m.\u001b[39mdataset)\n\u001b[1;32m      3\u001b[0m \u001b[38;5;28;01mfor\u001b[39;00m batch,(x,Y) \u001b[38;5;129;01min\u001b[39;00m \u001b[38;5;28menumerate\u001b[39m(trainloader):\n\u001b[0;32m----> 4\u001b[0m     x_train,y_train\u001b[38;5;241m=\u001b[39m \u001b[43mx\u001b[49m\u001b[38;5;241;43m.\u001b[39;49m\u001b[43mto\u001b[49m\u001b[43m(\u001b[49m\u001b[43mdevice\u001b[49m\u001b[43m)\u001b[49m,x\u001b[38;5;241m.\u001b[39mto(device)\n\u001b[1;32m      5\u001b[0m     y_pred\u001b[38;5;241m=\u001b[39m model(x_train)\n\u001b[1;32m      6\u001b[0m     loss\u001b[38;5;241m=\u001b[39m criterion(y_pred,y_train)\n",
      "\u001b[0;31mKeyboardInterrupt\u001b[0m: "
     ]
    }
   ],
   "source": [
    "for epoch in range(100):\n",
    "    size = len(trainloader.dataset)\n",
    "    for batch,(x,Y) in enumerate(trainloader):\n",
    "        x_train,y_train= x.to(device),x.to(device)\n",
    "        y_pred= model(x_train)\n",
    "        loss= criterion(y_pred,y_train)\n",
    "        \n",
    "        optimizer.zero_grad()\n",
    "        loss.backward()\n",
    "        optimizer.step()\n",
    "        \n",
    "        if batch % 1000==0:\n",
    "            loss, current = loss.item(), batch * len(x_train)\n",
    "            print(f\"loss: {loss:>7f}  [{current:>5d}/{size:>5d}]\",f\"epoch: {epoch}\")\n",
    "    "
   ]
  },
  {
   "cell_type": "code",
   "execution_count": 255,
   "id": "f84d41e9",
   "metadata": {},
   "outputs": [],
   "source": [
    "torch.save(model.state_dict(), \"autoencoder.pt\")"
   ]
  },
  {
   "cell_type": "code",
   "execution_count": 323,
   "id": "0f861ff6",
   "metadata": {},
   "outputs": [
    {
     "data": {
      "image/png": "[encoded data removed]",
      "text/plain": [
       "<Figure size 432x288 with 1 Axes>"
      ]
     },
     "metadata": {
      "needs_background": "light"
     },
     "output_type": "display_data"
    }
   ],
   "source": [
    "for batch,(x,Y) in enumerate(testloader):\n",
    "    item = x.reshape(-1, 28, 28)\n",
    "    reconstructed= model(x.to(device))\n",
    "    generate= reconstructed.cpu()\n",
    "    plt.imshow(item[0],cmap='gray')\n",
    "    plt.title(\"orginal Image\")\n",
    "    "
   ]
  },
  {
   "cell_type": "code",
   "execution_count": 324,
   "id": "0fe635d9",
   "metadata": {},
   "outputs": [
    {
     "data": {
      "text/plain": [
       "Text(0.5, 1.0, 'generated image')"
      ]
     },
     "execution_count": 324,
     "metadata": {},
     "output_type": "execute_result"
    },
    {
     "data": {
      "image/png": "[encoded data removed]",
      "text/plain": [
       "<Figure size 432x288 with 1 Axes>"
      ]
     },
     "metadata": {
      "needs_background": "light"
     },
     "output_type": "display_data"
    }
   ],
   "source": [
    "plt.imshow(generate.data[0].squeeze(),cmap='gray')\n",
    "plt.title('generated image')"
   ]
  },
  {
   "cell_type": "code",
   "execution_count": 321,
   "id": "431ba1d8",
   "metadata": {},
   "outputs": [
    {
     "data": {
      "image/png": "[encoded data removed]",
      "text/plain": [
       "<Figure size 1152x1152 with 16 Axes>"
      ]
     },
     "metadata": {
      "needs_background": "light"
     },
     "output_type": "display_data"
    }
   ],
   "source": [
    "fig,axs = plt.subplots(4,4,figsize=(16, 16))\n",
    "for i in range(4):\n",
    "    for j in range(4):\n",
    "        img = generate.data[j].squeeze()\n",
    "        axs[i][j].imshow(img,cmap='gray')"
   ]
  },
  {
   "cell_type": "code",
   "execution_count": null,
   "id": "af4e6923",
   "metadata": {},
   "outputs": [],
   "source": []
  }
 ],
 "metadata": {
  "kernelspec": {
   "display_name": "Python 3 (ipykernel)",
   "language": "python",
   "name": "python3"
  },
  "language_info": {
   "codemirror_mode": {
    "name": "ipython",
    "version": 3
   },
   "file_extension": ".py",
   "mimetype": "text/x-python",
   "name": "python",
   "nbconvert_exporter": "python",
   "pygments_lexer": "ipython3",
   "version": "3.9.7"
  }
 },
 "nbformat": 4,
 "nbformat_minor": 5
}
